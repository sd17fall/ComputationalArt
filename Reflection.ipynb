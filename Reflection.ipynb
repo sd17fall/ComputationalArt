{
 "cells": [
  {
   "cell_type": "markdown",
   "metadata": {},
   "source": [
    "This project was extremely interesting and fun as we are generating images from ramdon functions we generated. Despite of my limited knowledge on color's organization, I was able to understand the project and gained a little insight on color. This project made a very effective use of recursion. From a process point of view, all doctests went pretty well as I was able to implement unit test and test out each individual function making sure it works. In addition to that, writing the definition of the function itelf is a very fun process. For example, for the remap_interval function, I did the entire math process on paper first, then transform it to computer science. When I was doing the project, I realized that coding is more complex than math as we have to think about many different situations as well as certain conditions, such as base case. Often in times, I do not think of particular scenario that could impact my result. One thing i wish I knew before I started that would helped me succeed was the science on color. I started the project slowly as I was confused by the concept of color. I followed the instructions step by step. If I knew a little more about it, I could just use my own knowledge to write codes to test out my skills. "
   ]
  }
 ],
 "metadata": {
  "kernelspec": {
   "display_name": "Python 3",
   "language": "python",
   "name": "python3"
  },
  "language_info": {
   "codemirror_mode": {
    "name": "ipython",
    "version": 3
   },
   "file_extension": ".py",
   "mimetype": "text/x-python",
   "name": "python",
   "nbconvert_exporter": "python",
   "pygments_lexer": "ipython3",
   "version": "3.6.1"
  }
 },
 "nbformat": 4,
 "nbformat_minor": 2
}
