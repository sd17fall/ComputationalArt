{
 "cells": [
  {
   "cell_type": "markdown",
   "metadata": {},
   "source": [
    "Project Reflection:\n",
    "\n",
    "What went well?\n",
    "With a little bit of help/new perspectives from the ninjas, I always made a big step towards the goal, so starting early paid off.\n",
    "\n",
    "What could you improve?\n",
    "Work in longer stretches. I probably wasted a lot of time, because I had to get into the system again. Also I'm still not feeling confident with the application of recursion.\n",
    "\n",
    "How will you use what you learned going forward?\n",
    "First of all, some ways to use recursion. Also, that there are ways to generate a graphic output, not just numbers an letters\n",
    "\n",
    "What do you wish you knew before you started that would have helped you succeed?\n",
    "I don't know if this was the plan, but -in comparison to the first project- the instruction were really long, sometimes a little confusing and not as clear. Sometimes"
   ]
  }
 ],
 "metadata": {
  "kernelspec": {
   "display_name": "Python 3",
   "language": "python",
   "name": "python3"
  },
  "language_info": {
   "codemirror_mode": {
    "name": "ipython",
    "version": 3
   },
   "file_extension": ".py",
   "mimetype": "text/x-python",
   "name": "python",
   "nbconvert_exporter": "python",
   "pygments_lexer": "ipython3",
   "version": "3.6.1"
  }
 },
 "nbformat": 4,
 "nbformat_minor": 2
}
